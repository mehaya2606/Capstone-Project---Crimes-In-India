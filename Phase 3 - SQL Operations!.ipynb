{
 "cells": [
  {
   "cell_type": "markdown",
   "id": "af8573a5",
   "metadata": {},
   "source": [
    "# Phase 3 - SQL Operations"
   ]
  },
  {
   "cell_type": "code",
   "execution_count": 2,
   "id": "7f596e83",
   "metadata": {},
   "outputs": [],
   "source": [
    "import sqlite3\n",
    "import csv\n",
    "import pandas as pd"
   ]
  },
  {
   "cell_type": "code",
   "execution_count": 3,
   "id": "c93edb25",
   "metadata": {},
   "outputs": [],
   "source": [
    "db=sqlite3.connect(\"crime_database\")"
   ]
  },
  {
   "cell_type": "code",
   "execution_count": 4,
   "id": "6560e55d",
   "metadata": {},
   "outputs": [],
   "source": [
    "cursor=db.cursor()"
   ]
  },
  {
   "cell_type": "code",
   "execution_count": 7,
   "id": "99137a37",
   "metadata": {},
   "outputs": [],
   "source": [
    "cursor.execute(\"CREATE TABLE crim_against_women(state UT TEXT,DISTRICT TEXT,Year INT,Rape INT,Kidnapping INT,Dowry Deaths INT,Assault INT,Insult  INT,Cruelty by Husband  INT,Importation of Girls INT) \")\n",
    "db.commit()"
   ]
  },
  {
   "cell_type": "markdown",
   "id": "fd6055ee",
   "metadata": {},
   "source": [
    "### 3.1 Insert records from 42_District_wise_crimes_committed_against_women_2001_2012.csv into a table"
   ]
  },
  {
   "cell_type": "code",
   "execution_count": 8,
   "id": "35661e6f",
   "metadata": {},
   "outputs": [],
   "source": [
    "with open('42_District_wise_crimes_committed_against_women_2001_2012.csv','r') as file :\n",
    "    no_records=0\n",
    "    for row in file:\n",
    "        cursor.execute(\"INSERT INTO crim_against_women VALUES(?,?,?,?,?,?,?,?,?,?)\",row.split(\",\"))\n",
    "        db.commit()\n",
    "        no_records += 1"
   ]
  },
  {
   "cell_type": "code",
   "execution_count": 11,
   "id": "4b04ca04",
   "metadata": {},
   "outputs": [
    {
     "name": "stdout",
     "output_type": "stream",
     "text": [
      "9017 Records Inserted\n"
     ]
    }
   ],
   "source": [
    "print(no_records,'Records Inserted')"
   ]
  },
  {
   "cell_type": "markdown",
   "id": "b2418557",
   "metadata": {},
   "source": [
    "### 3.2\tWrite SQL query to find the highest number of rapes & Kidnappings that happened in which state, District, and year"
   ]
  },
  {
   "cell_type": "code",
   "execution_count": 12,
   "id": "a150b601",
   "metadata": {},
   "outputs": [
    {
     "name": "stdout",
     "output_type": "stream",
     "text": [
      "('STATE/UT', 'DISTRICT', 'Year', 'Rape', 'Kidnapping and Abduction')\n",
      "('WEST BENGAL', 'MURSHIDABAD', 2011, 433, 492)\n",
      "('WEST BENGAL', 'MURSHIDABAD', 2012, 257, 464)\n",
      "('WEST BENGAL', 'MURSHIDABAD', 2010, 526, 441)\n",
      "('DELHI', 'NORTH-WEST', 2005, 236, 349)\n",
      "('WEST BENGAL', 'MURSHIDABAD', 2009, 568, 342)\n",
      "('UTTAR PRADESH', 'LUCKNOW', 2008, 334, 331)\n",
      "('DELHI', 'NORTH WEST', 2001, 145, 298)\n",
      "('DELHI', 'NORTH-WEST', 2006, 224, 287)\n",
      "('DELHI', 'NORTH WEST', 2002, 159, 259)\n",
      "('DELHI', 'OUTER', 2007, 369, 237)\n",
      "('ASSAM', 'GUWAHATI CITY', 2004, 197, 228)\n",
      "('DELHI', 'NORTH WEST', 2003, 137, 191)\n"
     ]
    }
   ],
   "source": [
    "result=cursor.execute(\"SELECT  state UT, DISTRICT ,Year ,MAX(Rape), MAX(Kidnapping) FROM crim_against_women WHERE NOT DISTRICT='TOTAL' AND NOT DISTRICT='DELHI UT TOTAL' GROUP BY Year ORDER BY Kidnapping DESC\")\n",
    "for row in result:\n",
    "    print(row)"
   ]
  },
  {
   "cell_type": "markdown",
   "id": "d8a0f53a",
   "metadata": {},
   "source": [
    "The highest district and state in terms of rape and kidnapping incidents is Murshidabad District in West Bengal (which had 568 rape cases in 2009 and 492 kidnapping cases in 2011)."
   ]
  },
  {
   "cell_type": "markdown",
   "id": "288f619d",
   "metadata": {},
   "source": [
    "### 3.3 Write SQL query to find All the lowest number of rapes & Kidnappings that happened in which state, District, and year"
   ]
  },
  {
   "cell_type": "code",
   "execution_count": 13,
   "id": "c646be94",
   "metadata": {},
   "outputs": [
    {
     "name": "stdout",
     "output_type": "stream",
     "text": [
      "('A & N ISLANDS', 'NICOBAR', 2001, 0, 0)\n",
      "('ANDHRA PRADESH', 'GUNTAKAL RLY.', 2001, 0, 0)\n",
      "('ARUNACHAL PRADESH', 'TAWANG', 2001, 0, 0)\n",
      "('ASSAM', 'C.I.D.', 2001, 0, 0)\n",
      "('BIHAR', 'ARWAL', 2001, 0, 0)\n",
      "('CHHATTISGARH', 'BIZAPUR', 2001, 0, 0)\n",
      "('DAMAN & DIU', 'DIU', 2001, 0, 0)\n",
      "('DELHI', 'S.T.F.', 2001, 0, 0)\n",
      "('GUJARAT', 'W.RLY', 2001, 0, 0)\n",
      "('HARYANA', 'GRP', 2002, 0, 0)\n",
      "('HIMACHAL PRADESH', 'G.R.P.', 2001, 0, 0)\n",
      "('JAMMU & KASHMIR', 'CRIME JAMMU', 2001, 0, 0)\n",
      "('JHARKHAND', 'DEOGHAR', 2001, 0, 0)\n",
      "('KARNATAKA', 'CHITRADURGA', 2001, 0, 0)\n",
      "('KERALA', 'CBCID', 2001, 0, 0)\n",
      "('LAKSHADWEEP', 'LAKSHADWEEP', 2001, 0, 0)\n",
      "('MADHYA PRADESH', 'INDORE RLY.', 2001, 0, 0)\n",
      "('MAHARASHTRA', 'MUMBAI RLY.', 2001, 0, 0)\n",
      "('MANIPUR', 'CHURACHANDPUR', 2001, 0, 0)\n",
      "('MEGHALAYA', 'GARO HILLS EAST', 2001, 0, 0)\n",
      "('MIZORAM', 'AIZAWL', 2001, 0, 0)\n",
      "('NAGALAND', 'KIPHIRE', 2001, 0, 0)\n",
      "('ODISHA', 'RAYAGADA', 2001, 0, 0)\n",
      "('PUDUCHERRY', 'KARAIKAL', 2011, 0, 0)\n",
      "('PUNJAB', 'G.R.P', 2001, 0, 0)\n",
      "('RAJASTHAN', 'G.R.P.', 2003, 0, 0)\n",
      "('SIKKIM', 'NORTH', 2001, 0, 0)\n",
      "('TAMIL NADU', 'CHENNAI', 2001, 0, 0)\n",
      "('TRIPURA', 'DHALAI', 2001, 0, 0)\n",
      "('UTTAR PRADESH', 'MAHARAJGANJ', 2002, 0, 0)\n",
      "('UTTARAKHAND', 'NAINITAL', 2001, 0, 0)\n",
      "('WEST BENGAL', 'ASANSOL', 2001, 0, 0)\n",
      "('GOA', 'NORTH GOA', 2001, 3, 1)\n",
      "('D & N HAVELI', 'D and N HAVELI', 2001, 1, 2)\n",
      "('CHANDIGARH', 'CHANDIGARH', 2003, 18, 28)\n",
      "('STATE/UT', 'DISTRICT', 'Year', 'Rape', 'Kidnapping and Abduction')\n"
     ]
    }
   ],
   "source": [
    "result=cursor.execute(\"SELECT  state UT, DISTRICT ,Year ,MIN(Rape), MIN(Kidnapping) FROM crim_against_women WHERE NOT DISTRICT='TOTAL' AND NOT DISTRICT='DELHI UT TOTAL' GROUP BY UT ORDER BY Kidnapping\")\n",
    "for row in result:\n",
    "    print(row)"
   ]
  },
  {
   "cell_type": "markdown",
   "id": "066b18a9",
   "metadata": {},
   "source": [
    "The aforementioned results indicate the lowest number of rapes and kidnappings in each state and year."
   ]
  },
  {
   "cell_type": "markdown",
   "id": "a24d9c80",
   "metadata": {},
   "source": [
    "### 3.4 Insert records from 02_District_wise_crimes_committed_against_ST_2001_2012.csv into a new table"
   ]
  },
  {
   "cell_type": "code",
   "execution_count": 15,
   "id": "deeafed4",
   "metadata": {},
   "outputs": [],
   "source": [
    "cursor.execute(\"CREATE TABLE crim_against_st (state UT TEXT,DISTRICT TEXT,Year INT,Murder INT,Rape INT,Kidanpping INT,Dacoity INT,Robbery INT,Arson  INT,Hurt INT,PCR INT,POA INT,Other Crimes INT) \")\n",
    "db.commit()"
   ]
  },
  {
   "cell_type": "code",
   "execution_count": 16,
   "id": "cd206d1c",
   "metadata": {},
   "outputs": [],
   "source": [
    "with open('02_District_wise_crimes_committed_against_ST_2001_2012.csv','r') as file :\n",
    "    no_records=0\n",
    "    for row in file:\n",
    "        cursor.execute(\"INSERT INTO crim_against_st VALUES(?,?,?,?,?,?,?,?,?,?,?,?,?)\",row.split(\",\"))\n",
    "        db.commit()\n",
    "        no_records += 1"
   ]
  },
  {
   "cell_type": "code",
   "execution_count": 17,
   "id": "e329355b",
   "metadata": {},
   "outputs": [
    {
     "name": "stdout",
     "output_type": "stream",
     "text": [
      "9018 Records Inserted\n"
     ]
    }
   ],
   "source": [
    "print(no_records,'Records Inserted')"
   ]
  },
  {
   "cell_type": "markdown",
   "id": "3891b4c4",
   "metadata": {},
   "source": [
    "### 3.5 Write SQL query to find the highest number of dacoity/robbery in which district."
   ]
  },
  {
   "cell_type": "code",
   "execution_count": 18,
   "id": "6fa34e43",
   "metadata": {},
   "outputs": [
    {
     "name": "stdout",
     "output_type": "stream",
     "text": [
      "('GUJARAT', 'DAHOD', 2001, 29, 32)\n"
     ]
    }
   ],
   "source": [
    "result=cursor.execute(\"SELECT State UT,DISTRICT ,Year, MAX(Dacoity), MAX(Robbery) FROM crim_against_st WHERE NOT DISTRICT ='TOTAL'  \")\n",
    "for row in result:\n",
    "    print(row)"
   ]
  },
  {
   "cell_type": "markdown",
   "id": "3e505014",
   "metadata": {},
   "source": [
    "In 2001, the maximum number of Daocity and Robberies occurred in Gujarat's Dahod District."
   ]
  },
  {
   "cell_type": "markdown",
   "id": "2527e56c",
   "metadata": {},
   "source": [
    "### 3.6 Write SQL query to find in which districts(All) the lowest number of murders happened"
   ]
  },
  {
   "cell_type": "code",
   "execution_count": 19,
   "id": "97d40919",
   "metadata": {},
   "outputs": [
    {
     "name": "stdout",
     "output_type": "stream",
     "text": [
      "('A & N ISLANDS', 'ANDAMAN', 0)\n",
      "('ANDHRA PRADESH', 'ADILABAD', 0)\n",
      "('ARUNACHAL PRADESH', 'CHANGLANG', 0)\n",
      "('ASSAM', 'BARPETA', 0)\n",
      "('BIHAR', 'ARWAL', 0)\n",
      "('CHANDIGARH', 'CHANDIGARH', 0)\n",
      "('CHHATTISGARH', 'BALRAMPUR', 0)\n",
      "('D & N HAVELI', 'D and N HAVELI', 0)\n",
      "('DAMAN & DIU', 'DAMAN', 0)\n",
      "('DELHI', 'CENTRAL', 0)\n",
      "('GOA', 'NORTH GOA', 0)\n",
      "('GUJARAT', 'AHMEDABAD COMMR.', 0)\n",
      "('HARYANA', 'AMBALA', 0)\n",
      "('HIMACHAL PRADESH', 'BILASPUR', 0)\n",
      "('JAMMU & KASHMIR', 'ANANTNAG', 0)\n",
      "('JHARKHAND', 'BOKARO', 0)\n",
      "('KARNATAKA', 'BAGALKOT', 0)\n",
      "('KERALA', 'ALAPUZHA', 0)\n",
      "('LAKSHADWEEP', 'LAKSHADWEEP', 0)\n",
      "('MADHYA PRADESH', 'BETUL', 0)\n",
      "('MAHARASHTRA', 'AKOLA', 0)\n",
      "('MANIPUR', 'BISHNUPUR', 0)\n",
      "('MEGHALAYA', 'GARO HILLS EAST', 0)\n",
      "('MIZORAM', 'AIZAWL', 0)\n",
      "('NAGALAND', 'DIMAPUR', 0)\n",
      "('ODISHA', 'ANGUL', 0)\n",
      "('PUDUCHERRY', 'PONDICHERRY', 0)\n",
      "('PUNJAB', 'AMRITSAR', 0)\n",
      "('RAJASTHAN', 'AJMER', 0)\n",
      "('SIKKIM', 'NORTH', 0)\n",
      "('TAMIL NADU', 'ARIYALUR', 0)\n",
      "('TRIPURA', 'DHALAI', 0)\n",
      "('UTTAR PRADESH', 'AGRA', 0)\n",
      "('UTTARAKHAND', 'ALMORA', 0)\n",
      "('WEST BENGAL', '24 PARGANAS NORTH', 0)\n"
     ]
    }
   ],
   "source": [
    "result=cursor.execute(\"SELECT State UT,DISTRICT, Murder FROM crim_against_st WHERE Murder=(SELECT MIN(Murder) FROM crime_against_st) GROUP BY state \")\n",
    "for row in result:\n",
    "    print(row)"
   ]
  },
  {
   "cell_type": "markdown",
   "id": "acf7aef8",
   "metadata": {},
   "source": [
    "The query's above result indicates the lowest number of murders that have occurred in each district"
   ]
  },
  {
   "cell_type": "markdown",
   "id": "eabc4b5a",
   "metadata": {},
   "source": [
    "### 3.7 Write SQL query to find the number of murders in ascending order in district and yearwise."
   ]
  },
  {
   "cell_type": "code",
   "execution_count": 20,
   "id": "91d35a8e",
   "metadata": {},
   "outputs": [
    {
     "name": "stdout",
     "output_type": "stream",
     "text": [
      "('A & N ISLANDS', 'ANDAMAN', 2001, 0)\n",
      "('ANDHRA PRADESH', 'ADILABAD', 2001, 0)\n",
      "('ARUNACHAL PRADESH', 'CHANGLANG', 2001, 0)\n",
      "('ASSAM', 'BARPETA', 2001, 0)\n",
      "('CHANDIGARH', 'CHANDIGARH', 2001, 0)\n",
      "('CHHATTISGARH', 'BALRAMPUR', 2001, 0)\n",
      "('D & N HAVELI', 'D and N HAVELI', 2001, 0)\n",
      "('DAMAN & DIU', 'DAMAN', 2001, 0)\n",
      "('DELHI', 'CENTRAL', 2001, 0)\n",
      "('GOA', 'NORTH GOA', 2001, 0)\n",
      "('GUJARAT', 'AHMEDABAD COMMR.', 2001, 0)\n",
      "('HARYANA', 'AMBALA', 2001, 0)\n",
      "('HIMACHAL PRADESH', 'BILASPUR', 2001, 0)\n",
      "('JAMMU & KASHMIR', 'ANANTNAG', 2001, 0)\n",
      "('JHARKHAND', 'BOKARO', 2001, 0)\n",
      "('KARNATAKA', 'BAGALKOT', 2001, 0)\n",
      "('KERALA', 'ALAPUZHA', 2001, 0)\n",
      "('LAKSHADWEEP', 'LAKSHADWEEP', 2001, 0)\n",
      "('MANIPUR', 'BISHNUPUR', 2001, 0)\n",
      "('MEGHALAYA', 'GARO HILLS EAST', 2001, 0)\n",
      "('MIZORAM', 'AIZAWL', 2001, 0)\n",
      "('NAGALAND', 'DIMAPUR', 2001, 0)\n",
      "('ODISHA', 'ANGUL', 2001, 0)\n",
      "('PUDUCHERRY', 'PONDICHERRY', 2001, 0)\n",
      "('PUNJAB', 'AMRITSAR', 2001, 0)\n",
      "('RAJASTHAN', 'AJMER', 2001, 0)\n",
      "('TAMIL NADU', 'ARIYALUR', 2001, 0)\n",
      "('TRIPURA', 'DHALAI', 2001, 0)\n",
      "('UTTAR PRADESH', 'AGRA', 2001, 0)\n",
      "('UTTARAKHAND', 'ALMORA', 2001, 0)\n",
      "('WEST BENGAL', '24 PARGANAS NORTH', 2001, 0)\n",
      "('BIHAR', 'ARARIA', 2001, 1)\n",
      "('MADHYA PRADESH', 'BALAGHAT', 2001, 1)\n",
      "('MAHARASHTRA', 'AHMEDNAGAR', 2001, 1)\n",
      "('SIKKIM', 'EAST', 2001, 4)\n"
     ]
    }
   ],
   "source": [
    "result=cursor.execute(\"SELECT  state, DISTRICT, Year,Murder FROM crim_against_st GROUP BY state ORDER BY Murder  \")\n",
    "for row in result:\n",
    "    print(row)"
   ]
  },
  {
   "cell_type": "markdown",
   "id": "7f3641cf",
   "metadata": {},
   "source": [
    "### 3.8.1Insert records of STATE/UT, DISTRICT, YEAR, MURDER, ATTEMPT TO MURDER, and RAPE columns only from 01_District_wise_crimes_committed_IPC_2001_2012.csv into a new table"
   ]
  },
  {
   "cell_type": "code",
   "execution_count": 21,
   "id": "93ed1fb4",
   "metadata": {},
   "outputs": [
    {
     "data": {
      "text/plain": [
       "<sqlite3.Cursor at 0x1ca1612eec0>"
      ]
     },
     "execution_count": 21,
     "metadata": {},
     "output_type": "execute_result"
    }
   ],
   "source": [
    "cursor.execute (\"CREATE TABLE crim_against_ipc(STATE UT TEXT,DISTRICT TEXT,YEAR INT, MURDER INT,ATTEMPT_to_MURDER INT,RAPE INT) \")"
   ]
  },
  {
   "cell_type": "code",
   "execution_count": 22,
   "id": "c59acad8",
   "metadata": {},
   "outputs": [],
   "source": [
    "db.commit()"
   ]
  },
  {
   "cell_type": "code",
   "execution_count": 23,
   "id": "004ce887",
   "metadata": {},
   "outputs": [],
   "source": [
    "with open('01_District_wise_crimes_committed_IPC_2001_2012.csv','r') as file :\n",
    "    no_records=0\n",
    "    for row in file:\n",
    "        cursor.execute(\"INSERT INTO crim_against_ipc VALUES(?,?,?,?,?,?)\",row.split(\",\"))\n",
    "        db.commit()\n",
    "        no_records += 1"
   ]
  },
  {
   "cell_type": "code",
   "execution_count": 24,
   "id": "1f704aee",
   "metadata": {},
   "outputs": [
    {
     "name": "stdout",
     "output_type": "stream",
     "text": [
      "9017 Records Inserted\n"
     ]
    }
   ],
   "source": [
    "print(no_records,'Records Inserted')"
   ]
  },
  {
   "cell_type": "markdown",
   "id": "1f931908",
   "metadata": {},
   "source": [
    "### 3.8.2 Write SQL query to find which District in each state/ut has the highest number of murders yearwise. Your output should show STATE/UT, YEAR, DISTRICT, and MURDERS."
   ]
  },
  {
   "cell_type": "code",
   "execution_count": 25,
   "id": "9dc47f89",
   "metadata": {},
   "outputs": [
    {
     "name": "stdout",
     "output_type": "stream",
     "text": [
      "('BIHAR', 2004, 'PATNA', 542)\n",
      "('UTTAR PRADESH', 2001, 'MUZAFFARNAGAR', 324)\n",
      "('MAHARASHTRA', 2001, 'MUMBAI', 295)\n",
      "('JHARKHAND', 2002, 'RANCHI', 270)\n",
      "('WEST BENGAL', 2010, 'PASCHIM MIDNAPUR', 268)\n",
      "('KARNATAKA', 2010, 'BANGALORE COMMR.', 266)\n",
      "('GUJARAT', 2002, 'AHMEDABAD COMMR.', 222)\n",
      "('ANDHRA PRADESH', 2001, 'RANGA REDDY', 214)\n",
      "('TAMIL NADU', 2012, 'CHENNAI', 180)\n",
      "('JAMMU & KASHMIR', 2001, 'BARAMULLA', 144)\n",
      "('ASSAM', 2007, 'TINSUKIA', 143)\n",
      "('MADHYA PRADESH', 2004, 'JHABUA', 139)\n",
      "('CHHATTISGARH', 2006, 'BIZAPUR', 139)\n",
      "('TRIPURA', 2003, 'WEST', 136)\n",
      "('DELHI UT', 2002, 'NORTH WEST', 135)\n",
      "('ODISHA', 2009, 'KEONJHAR', 109)\n",
      "('RAJASTHAN', 2011, 'ALWAR', 104)\n",
      "('UTTARAKHAND', 2001, 'HARIDWAR', 94)\n",
      "('HARYANA', 2006, 'GURGAON', 93)\n",
      "('PUNJAB', 2010, 'CP LUDHIANA', 90)\n",
      "('NAGALAND', 2008, 'DIMAPUR', 64)\n",
      "('MANIPUR', 2007, 'IMPHAL WEST', 61)\n",
      "('KERALA', 2002, 'TRIVANDRUM', 58)\n",
      "('MEGHALAYA', 2003, 'JAINTIA HILLS', 52)\n",
      "('HIMACHAL PRADESH', 2003, 'KANGRA', 38)\n",
      "('GOA', 2009, 'NORTH GOA', 33)\n",
      "('PUDUCHERRY', 2011, 'PUDUCHERRY', 32)\n",
      "('CHANDIGARH', 2002, 'CHANDIGARH', 31)\n",
      "('MIZORAM', 2010, 'AIZAWL', 23)\n",
      "('ARUNACHAL PRADESH', 2007, 'LOHIT', 17)\n",
      "('A & N ISLANDS', 2003, 'ANDAMAN', 16)\n",
      "('D & N HAVELI', 2011, 'D and N HAVELI', 14)\n",
      "('SIKKIM', 2001, 'EAST', 13)\n",
      "('DAMAN & DIU', 2007, 'DAMAN', 12)\n",
      "('LAKSHADWEEP', 2001, 'LAKSHADWEEP', 1)\n"
     ]
    }
   ],
   "source": [
    "result=cursor.execute(\"SELECT  state UT, Year,DISTRICT ,MAX(MURDER) FROM crimes_against_ipc women WHERE NOT DISTRICT='TOTAL' AND NOT DISTRICT='DELHI UT TOTAL' GROUP BY UT ORDER BY MURDER DESC\")\n",
    "for row in result:\n",
    "    print(row)"
   ]
  },
  {
   "cell_type": "markdown",
   "id": "adf1176c",
   "metadata": {},
   "source": [
    "### 3.8.3 Store the above data (the result of 3.2) in DataFrame and analyze districts that appear 3 or more than 3 years and print the corresponding state/ut, district, murders, and year in descending order."
   ]
  },
  {
   "cell_type": "code",
   "execution_count": 28,
   "id": "e598539e",
   "metadata": {},
   "outputs": [],
   "source": [
    "df1=pd.read_sql(\"SELECT  state UT, DISTRICT ,Year ,MAX(Rape) AS Rape, MAX(Kidnapping) AS Kidnapping FROM crim_against_women WHERE NOT DISTRICT='TOTAL' AND NOT DISTRICT='DELHI UT TOTAL' GROUP BY Year ORDER BY Kidnapping DESC\",db)"
   ]
  },
  {
   "cell_type": "code",
   "execution_count": 29,
   "id": "168a5fbd",
   "metadata": {},
   "outputs": [
    {
     "data": {
      "text/html": [
       "<div>\n",
       "<style scoped>\n",
       "    .dataframe tbody tr th:only-of-type {\n",
       "        vertical-align: middle;\n",
       "    }\n",
       "\n",
       "    .dataframe tbody tr th {\n",
       "        vertical-align: top;\n",
       "    }\n",
       "\n",
       "    .dataframe thead th {\n",
       "        text-align: right;\n",
       "    }\n",
       "</style>\n",
       "<table border=\"1\" class=\"dataframe\">\n",
       "  <thead>\n",
       "    <tr style=\"text-align: right;\">\n",
       "      <th></th>\n",
       "      <th>UT</th>\n",
       "      <th>DISTRICT</th>\n",
       "      <th>Year</th>\n",
       "      <th>Rape</th>\n",
       "      <th>Kidnapping</th>\n",
       "    </tr>\n",
       "  </thead>\n",
       "  <tbody>\n",
       "    <tr>\n",
       "      <th>0</th>\n",
       "      <td>WEST BENGAL</td>\n",
       "      <td>MURSHIDABAD</td>\n",
       "      <td>2011</td>\n",
       "      <td>433</td>\n",
       "      <td>492</td>\n",
       "    </tr>\n",
       "    <tr>\n",
       "      <th>1</th>\n",
       "      <td>WEST BENGAL</td>\n",
       "      <td>MURSHIDABAD</td>\n",
       "      <td>2012</td>\n",
       "      <td>257</td>\n",
       "      <td>464</td>\n",
       "    </tr>\n",
       "    <tr>\n",
       "      <th>2</th>\n",
       "      <td>WEST BENGAL</td>\n",
       "      <td>MURSHIDABAD</td>\n",
       "      <td>2010</td>\n",
       "      <td>526</td>\n",
       "      <td>441</td>\n",
       "    </tr>\n",
       "    <tr>\n",
       "      <th>3</th>\n",
       "      <td>DELHI</td>\n",
       "      <td>NORTH-WEST</td>\n",
       "      <td>2005</td>\n",
       "      <td>236</td>\n",
       "      <td>349</td>\n",
       "    </tr>\n",
       "    <tr>\n",
       "      <th>4</th>\n",
       "      <td>WEST BENGAL</td>\n",
       "      <td>MURSHIDABAD</td>\n",
       "      <td>2009</td>\n",
       "      <td>568</td>\n",
       "      <td>342</td>\n",
       "    </tr>\n",
       "    <tr>\n",
       "      <th>5</th>\n",
       "      <td>UTTAR PRADESH</td>\n",
       "      <td>LUCKNOW</td>\n",
       "      <td>2008</td>\n",
       "      <td>334</td>\n",
       "      <td>331</td>\n",
       "    </tr>\n",
       "    <tr>\n",
       "      <th>6</th>\n",
       "      <td>DELHI</td>\n",
       "      <td>NORTH WEST</td>\n",
       "      <td>2001</td>\n",
       "      <td>145</td>\n",
       "      <td>298</td>\n",
       "    </tr>\n",
       "    <tr>\n",
       "      <th>7</th>\n",
       "      <td>DELHI</td>\n",
       "      <td>NORTH-WEST</td>\n",
       "      <td>2006</td>\n",
       "      <td>224</td>\n",
       "      <td>287</td>\n",
       "    </tr>\n",
       "    <tr>\n",
       "      <th>8</th>\n",
       "      <td>DELHI</td>\n",
       "      <td>NORTH WEST</td>\n",
       "      <td>2002</td>\n",
       "      <td>159</td>\n",
       "      <td>259</td>\n",
       "    </tr>\n",
       "    <tr>\n",
       "      <th>9</th>\n",
       "      <td>DELHI</td>\n",
       "      <td>OUTER</td>\n",
       "      <td>2007</td>\n",
       "      <td>369</td>\n",
       "      <td>237</td>\n",
       "    </tr>\n",
       "    <tr>\n",
       "      <th>10</th>\n",
       "      <td>ASSAM</td>\n",
       "      <td>GUWAHATI CITY</td>\n",
       "      <td>2004</td>\n",
       "      <td>197</td>\n",
       "      <td>228</td>\n",
       "    </tr>\n",
       "    <tr>\n",
       "      <th>11</th>\n",
       "      <td>DELHI</td>\n",
       "      <td>NORTH WEST</td>\n",
       "      <td>2003</td>\n",
       "      <td>137</td>\n",
       "      <td>191</td>\n",
       "    </tr>\n",
       "  </tbody>\n",
       "</table>\n",
       "</div>"
      ],
      "text/plain": [
       "               UT       DISTRICT  Year  Rape  Kidnapping\n",
       "0     WEST BENGAL    MURSHIDABAD  2011   433         492\n",
       "1     WEST BENGAL    MURSHIDABAD  2012   257         464\n",
       "2     WEST BENGAL    MURSHIDABAD  2010   526         441\n",
       "3           DELHI     NORTH-WEST  2005   236         349\n",
       "4     WEST BENGAL    MURSHIDABAD  2009   568         342\n",
       "5   UTTAR PRADESH        LUCKNOW  2008   334         331\n",
       "6           DELHI     NORTH WEST  2001   145         298\n",
       "7           DELHI     NORTH-WEST  2006   224         287\n",
       "8           DELHI     NORTH WEST  2002   159         259\n",
       "9           DELHI          OUTER  2007   369         237\n",
       "10          ASSAM  GUWAHATI CITY  2004   197         228\n",
       "11          DELHI     NORTH WEST  2003   137         191"
      ]
     },
     "execution_count": 29,
     "metadata": {},
     "output_type": "execute_result"
    }
   ],
   "source": [
    "df1"
   ]
  },
  {
   "cell_type": "code",
   "execution_count": 30,
   "id": "c7e1b07a",
   "metadata": {},
   "outputs": [
    {
     "data": {
      "text/plain": [
       "MURSHIDABAD      4\n",
       "NORTH WEST       3\n",
       "NORTH-WEST       2\n",
       "LUCKNOW          1\n",
       "OUTER            1\n",
       "GUWAHATI CITY    1\n",
       "Name: DISTRICT, dtype: int64"
      ]
     },
     "execution_count": 30,
     "metadata": {},
     "output_type": "execute_result"
    }
   ],
   "source": [
    "df1['DISTRICT'].value_counts()"
   ]
  },
  {
   "cell_type": "markdown",
   "id": "fb012f74",
   "metadata": {},
   "source": [
    "It is evident from above that Murshidabad is the state that has been around for more than three years."
   ]
  },
  {
   "cell_type": "markdown",
   "id": "d0460006",
   "metadata": {},
   "source": [
    "### 3.8.4 Use appropriate graphs to show your data (the result of 3.8.3)"
   ]
  },
  {
   "cell_type": "code",
   "execution_count": 31,
   "id": "f9321d48",
   "metadata": {},
   "outputs": [],
   "source": [
    "import matplotlib.pyplot as plt\n",
    "import seaborn as sns"
   ]
  },
  {
   "cell_type": "markdown",
   "id": "9834cfc7",
   "metadata": {},
   "source": [
    "### Anlaysis of District vs Rape"
   ]
  },
  {
   "cell_type": "code",
   "execution_count": 32,
   "id": "ca30c16b",
   "metadata": {},
   "outputs": [
    {
     "data": {
      "image/png": "[encoded data removed]",
      "text/plain": [
       "<Figure size 600x400 with 1 Axes>"
      ]
     },
     "metadata": {},
     "output_type": "display_data"
    }
   ],
   "source": [
    "plt.figure(figsize=(6,4))\n",
    "sns.barplot(x=df1['DISTRICT'], y=df1['Rape'])\n",
    "plt.xticks(rotation=90,ha='right')\n",
    "plt.show()"
   ]
  },
  {
   "cell_type": "markdown",
   "id": "9a2658e7",
   "metadata": {},
   "source": [
    "### Anlaysis of District vs Kidnapping"
   ]
  },
  {
   "cell_type": "code",
   "execution_count": 36,
   "id": "313169e4",
   "metadata": {},
   "outputs": [
    {
     "data": {
      "image/png": "[encoded data removed]",
      "text/plain": [
       "<Figure size 600x400 with 1 Axes>"
      ]
     },
     "metadata": {},
     "output_type": "display_data"
    }
   ],
   "source": [
    "plt.figure(figsize=(6,4))\n",
    "sns.barplot(x=df1['DISTRICT'], y=df1['Kidnapping'])\n",
    "plt.xticks(rotation=90,ha='right')\n",
    "plt.show()"
   ]
  },
  {
   "cell_type": "markdown",
   "id": "e4e77bc0",
   "metadata": {},
   "source": [
    "Conclusion:\n",
    "\n",
    "The dataframe indicates that North-West Delhi has the fewest rape crimes, whereas Murshidabad is the West Bengal district with the most cases of rape.\n",
    "\n",
    "\n",
    "The highest number of kidnapping cases are found in the West Bengal district of Murshidabad, while the lowest number are found in the Assamese district of Guwahati City."
   ]
  }
 ],
 "metadata": {
  "kernelspec": {
   "display_name": "Python 3 (ipykernel)",
   "language": "python",
   "name": "python3"
  },
  "language_info": {
   "codemirror_mode": {
    "name": "ipython",
    "version": 3
   },
   "file_extension": ".py",
   "mimetype": "text/x-python",
   "name": "python",
   "nbconvert_exporter": "python",
   "pygments_lexer": "ipython3",
   "version": "3.10.9"
  }
 },
 "nbformat": 4,
 "nbformat_minor": 5
}
